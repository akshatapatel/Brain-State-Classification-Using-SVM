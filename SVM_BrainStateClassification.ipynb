{
 "cells": [
  {
   "cell_type": "markdown",
   "metadata": {},
   "source": [
    "## Brain State Classification Using SVM "
   ]
  },
  {
   "cell_type": "code",
   "execution_count": 1,
   "metadata": {},
   "outputs": [
    {
     "name": "stderr",
     "output_type": "stream",
     "text": [
      "/anaconda2/envs/Python36/lib/python3.6/importlib/_bootstrap.py:219: ImportWarning: can't resolve package from __spec__ or __package__, falling back on __name__ and __path__\n",
      "  return f(*args, **kwds)\n"
     ]
    }
   ],
   "source": [
    "import nibabel as nib\n",
    "import nilearn\n",
    "from nilearn import image\n",
    "\n",
    "import sklearn\n",
    "from sklearn.decomposition import PCA\n",
    "from sklearn.model_selection import KFold\n",
    "from sklearn.svm import SVC\n",
    "import scipy.io as sio\n",
    "\n",
    "import matplotlib.pyplot as plt\n",
    "import numpy as np\n",
    "import cv2"
   ]
  },
  {
   "cell_type": "markdown",
   "metadata": {},
   "source": [
    "# Test Images"
   ]
  },
  {
   "cell_type": "markdown",
   "metadata": {},
   "source": [
    "### Import Brain Test Images"
   ]
  },
  {
   "cell_type": "code",
   "execution_count": 2,
   "metadata": {},
   "outputs": [],
   "source": [
    "test_img_fname = './sub-01/ses-test/func/sub-01_ses-test_task-fingerfootlips_bold.nii'"
   ]
  },
  {
   "cell_type": "code",
   "execution_count": 3,
   "metadata": {},
   "outputs": [],
   "source": [
    "test_img=[]\n",
    "for volume in image.iter_img(test_img_fname):\n",
    "    test_img.append(volume.dataobj)"
   ]
  },
  {
   "cell_type": "code",
   "execution_count": 4,
   "metadata": {},
   "outputs": [],
   "source": [
    "test_img=np.array(test_img)"
   ]
  },
  {
   "cell_type": "code",
   "execution_count": 5,
   "metadata": {},
   "outputs": [
    {
     "data": {
      "text/plain": [
       "(184, 64, 64, 30)"
      ]
     },
     "execution_count": 5,
     "metadata": {},
     "output_type": "execute_result"
    }
   ],
   "source": [
    "test_img.shape"
   ]
  },
  {
   "cell_type": "code",
   "execution_count": 6,
   "metadata": {},
   "outputs": [
    {
     "data": {
      "text/plain": [
       "<matplotlib.image.AxesImage at 0x1c2fb750f0>"
      ]
     },
     "execution_count": 6,
     "metadata": {},
     "output_type": "execute_result"
    },
    {
     "data": {
      "image/png": "[encoded data removed]",
      "text/plain": [
       "<Figure size 432x288 with 1 Axes>"
      ]
     },
     "metadata": {
      "needs_background": "light"
     },
     "output_type": "display_data"
    }
   ],
   "source": [
    "plt.imshow(test_img[1,:,:,20],cmap='gray')"
   ]
  },
  {
   "cell_type": "markdown",
   "metadata": {},
   "source": [
    "### Test Image Mask"
   ]
  },
  {
   "cell_type": "code",
   "execution_count": 7,
   "metadata": {},
   "outputs": [],
   "source": [
    "test_mask_fname = './sub-01/ses-test/func/c6rsub-01_ses-test_task-fingerfootlips_bold.nii'"
   ]
  },
  {
   "cell_type": "code",
   "execution_count": 8,
   "metadata": {},
   "outputs": [],
   "source": [
    "test_mask_fname = nib.load(test_mask_fname)"
   ]
  },
  {
   "cell_type": "code",
   "execution_count": 9,
   "metadata": {},
   "outputs": [
    {
     "data": {
      "text/plain": [
       "(64, 64, 30)"
      ]
     },
     "execution_count": 9,
     "metadata": {},
     "output_type": "execute_result"
    }
   ],
   "source": [
    "test_mask_fname.shape"
   ]
  },
  {
   "cell_type": "code",
   "execution_count": 10,
   "metadata": {},
   "outputs": [],
   "source": [
    "test_mask_arr = test_mask_fname.get_fdata()"
   ]
  },
  {
   "cell_type": "code",
   "execution_count": 11,
   "metadata": {},
   "outputs": [],
   "source": [
    "#create a binary mask using thresholding\n",
    "thresh,test_binary_mask = cv2.threshold(test_mask_fname.get_fdata(),0.9,1,cv2.THRESH_BINARY_INV)"
   ]
  },
  {
   "cell_type": "code",
   "execution_count": 12,
   "metadata": {},
   "outputs": [
    {
     "name": "stdout",
     "output_type": "stream",
     "text": [
      "(64, 64, 30)\n"
     ]
    },
    {
     "data": {
      "text/plain": [
       "<matplotlib.image.AxesImage at 0x1c2fcb36d8>"
      ]
     },
     "execution_count": 12,
     "metadata": {},
     "output_type": "execute_result"
    },
    {
     "data": {
      "image/png": "[encoded data removed]",
      "text/plain": [
       "<Figure size 432x288 with 1 Axes>"
      ]
     },
     "metadata": {
      "needs_background": "light"
     },
     "output_type": "display_data"
    }
   ],
   "source": [
    "print(test_binary_mask.shape)\n",
    "plt.imshow(test_binary_mask[:,:,20],cmap='gray')"
   ]
  },
  {
   "cell_type": "markdown",
   "metadata": {},
   "source": [
    "### Test Images Masking"
   ]
  },
  {
   "cell_type": "code",
   "execution_count": 13,
   "metadata": {},
   "outputs": [
    {
     "data": {
      "text/plain": [
       "(184, 64, 64, 30)"
      ]
     },
     "execution_count": 13,
     "metadata": {},
     "output_type": "execute_result"
    }
   ],
   "source": [
    "test_img.shape"
   ]
  },
  {
   "cell_type": "code",
   "execution_count": 14,
   "metadata": {},
   "outputs": [],
   "source": [
    "#convolution on test images using the mask image\n",
    "test_masked_img=[]\n",
    "for i in range(184):\n",
    "    ar3=[]\n",
    "    for j in range(64):\n",
    "        ar2=[]\n",
    "        for k in range(64):\n",
    "            ar1=[]\n",
    "            for l in range(30):\n",
    "                ar1.append(test_img[i][j][k][l]*test_binary_mask[j][k][l])\n",
    "            ar2.append(ar1)\n",
    "        ar3.append(ar2)\n",
    "    test_masked_img.append(ar3)"
   ]
  },
  {
   "cell_type": "code",
   "execution_count": 15,
   "metadata": {},
   "outputs": [
    {
     "data": {
      "text/plain": [
       "<matplotlib.image.AxesImage at 0x1c2ff162e8>"
      ]
     },
     "execution_count": 15,
     "metadata": {},
     "output_type": "execute_result"
    },
    {
     "data": {
      "image/png": "[encoded data removed]",
      "text/plain": [
       "<Figure size 432x288 with 1 Axes>"
      ]
     },
     "metadata": {
      "needs_background": "light"
     },
     "output_type": "display_data"
    }
   ],
   "source": [
    "test_masked_img=np.array(test_masked_img)\n",
    "plt.imshow(test_masked_img[1,:,:,20],cmap='gray')\n",
    "#print(test_masked_img)"
   ]
  },
  {
   "cell_type": "markdown",
   "metadata": {},
   "source": [
    "### Test Images Feature Extraction"
   ]
  },
  {
   "cell_type": "code",
   "execution_count": 16,
   "metadata": {},
   "outputs": [
    {
     "name": "stdout",
     "output_type": "stream",
     "text": [
      "(184, 64, 64, 30)\n"
     ]
    }
   ],
   "source": [
    "test_reshaped_arr=[]\n",
    "print(test_masked_img.shape)\n",
    "test_reshaped_arr = test_masked_img.reshape(184,122880)"
   ]
  },
  {
   "cell_type": "code",
   "execution_count": 17,
   "metadata": {},
   "outputs": [
    {
     "data": {
      "text/plain": [
       "array([[0., 0., 0., ..., 0., 0., 0.],\n",
       "       [0., 0., 0., ..., 0., 0., 0.],\n",
       "       [0., 0., 0., ..., 0., 0., 0.],\n",
       "       ...,\n",
       "       [0., 0., 0., ..., 0., 0., 0.],\n",
       "       [0., 0., 0., ..., 0., 0., 0.],\n",
       "       [0., 0., 0., ..., 0., 0., 0.]])"
      ]
     },
     "execution_count": 17,
     "metadata": {},
     "output_type": "execute_result"
    }
   ],
   "source": [
    "test_reshaped_arr"
   ]
  },
  {
   "cell_type": "code",
   "execution_count": 18,
   "metadata": {},
   "outputs": [
    {
     "data": {
      "text/plain": [
       "(184, 122880)"
      ]
     },
     "execution_count": 18,
     "metadata": {},
     "output_type": "execute_result"
    }
   ],
   "source": [
    "test_reshaped_arr.shape"
   ]
  },
  {
   "cell_type": "markdown",
   "metadata": {},
   "source": [
    "### Test Images PCA"
   ]
  },
  {
   "cell_type": "code",
   "execution_count": 19,
   "metadata": {},
   "outputs": [
    {
     "data": {
      "text/plain": [
       "PCA(copy=True, iterated_power='auto', n_components=85, random_state=None,\n",
       "  svd_solver='auto', tol=0.0, whiten=False)"
      ]
     },
     "execution_count": 19,
     "metadata": {},
     "output_type": "execute_result"
    }
   ],
   "source": [
    "#fit the PCA model on training data with n components\n",
    "components = 85\n",
    "sklearn_pca = PCA(n_components=components)\n",
    "sklearn_pca.fit(test_reshaped_arr)"
   ]
  },
  {
   "cell_type": "code",
   "execution_count": 20,
   "metadata": {},
   "outputs": [],
   "source": [
    "#transform\n",
    "test_reduced_train=[]\n",
    "test_reduced_train = sklearn_pca.transform(test_reshaped_arr)"
   ]
  },
  {
   "cell_type": "code",
   "execution_count": 21,
   "metadata": {},
   "outputs": [
    {
     "data": {
      "text/plain": [
       "(184, 85)"
      ]
     },
     "execution_count": 21,
     "metadata": {},
     "output_type": "execute_result"
    }
   ],
   "source": [
    "test_reduced_train.shape"
   ]
  },
  {
   "cell_type": "markdown",
   "metadata": {},
   "source": [
    "### Test Images SVM"
   ]
  },
  {
   "cell_type": "code",
   "execution_count": 22,
   "metadata": {},
   "outputs": [],
   "source": [
    "#creating the array of labels\n",
    "labels = sio.loadmat('label.mat')\n",
    "test_conditions=[]\n",
    "test_conditions=labels['label']\n",
    "test_label_new = dict(enumerate(labels['label'].flatten(), 1))\n",
    "\n",
    "test_conditions_new = []\n",
    "for c in test_conditions:\n",
    "    test_conditions_new.append(c[0])"
   ]
  },
  {
   "cell_type": "code",
   "execution_count": 26,
   "metadata": {},
   "outputs": [],
   "source": [
    "#creating a model for the classifier\n",
    "svc = SVC(kernel='linear',gamma='auto')"
   ]
  },
  {
   "cell_type": "code",
   "execution_count": 27,
   "metadata": {},
   "outputs": [
    {
     "data": {
      "text/plain": [
       "SVC(C=1.0, cache_size=200, class_weight=None, coef0=0.0,\n",
       "  decision_function_shape='ovr', degree=3, gamma='auto', kernel='linear',\n",
       "  max_iter=-1, probability=False, random_state=None, shrinking=True,\n",
       "  tol=0.001, verbose=False)"
      ]
     },
     "execution_count": 27,
     "metadata": {},
     "output_type": "execute_result"
    }
   ],
   "source": [
    "#fitting the classifier\n",
    "svc.fit(test_reduced_train,test_conditions_new)"
   ]
  },
  {
   "cell_type": "code",
   "execution_count": 28,
   "metadata": {},
   "outputs": [
    {
     "name": "stdout",
     "output_type": "stream",
     "text": [
      "1.0\n"
     ]
    }
   ],
   "source": [
    "#predicting with the training set\n",
    "prediction = svc.predict(test_reduced_train)\n",
    "#accuracy should be 1, because it is predicted using the training set\n",
    "print((prediction == test_conditions_new).sum() / float(len(test_conditions_new)))"
   ]
  },
  {
   "cell_type": "markdown",
   "metadata": {},
   "source": [
    "### KFold Cross Validation"
   ]
  },
  {
   "cell_type": "markdown",
   "metadata": {},
   "source": [
    "### Hyperparameter tuning"
   ]
  },
  {
   "cell_type": "code",
   "execution_count": 29,
   "metadata": {},
   "outputs": [],
   "source": [
    "import sklearn\n",
    "from sklearn.model_selection import StratifiedKFold, GridSearchCV\n",
    "import math"
   ]
  },
  {
   "cell_type": "code",
   "execution_count": 30,
   "metadata": {},
   "outputs": [
    {
     "name": "stdout",
     "output_type": "stream",
     "text": [
      "Best score: 0.8152173913043478\n",
      "Best parameters: {'C': 0.03125, 'gamma': 3.0517578125e-05, 'kernel': 'linear'}\n",
      "SVC(C=0.03125, cache_size=200, class_weight=None, coef0=0.0,\n",
      "  decision_function_shape='ovr', degree=3, gamma=3.0517578125e-05,\n",
      "  kernel='linear', max_iter=-1, probability=False, random_state=None,\n",
      "  shrinking=True, tol=0.001, verbose=False)\n"
     ]
    },
    {
     "name": "stderr",
     "output_type": "stream",
     "text": [
      "/anaconda2/envs/Python36/lib/python3.6/site-packages/sklearn/model_selection/_search.py:841: DeprecationWarning: The default of the `iid` parameter will change from True to False in version 0.22 and will be removed in 0.24. This will change numeric results when test-set sizes are unequal.\n",
      "  DeprecationWarning)\n"
     ]
    }
   ],
   "source": [
    "svm = SVC()\n",
    "hyperparams = {'kernel':['linear','poly','rbf','sigmoid'],\n",
    "               'gamma' : [math.pow(2,i) for i in range(-15,3,2)],\n",
    "               'C' : [math.pow(2,i) for i in range(-5,15,2)],\n",
    "              }\n",
    "\n",
    "cross_validation = StratifiedKFold(n_splits=11)\n",
    "grid_search = GridSearchCV(svm,param_grid=hyperparams,cv=cross_validation)\n",
    "\n",
    "grid_search.fit(test_reduced_train, test_conditions_new)\n",
    "print('Best score: {}'.format(grid_search.best_score_))\n",
    "print('Best parameters: {}'.format(grid_search.best_params_))\n",
    "\n",
    "print(grid_search.best_estimator_)"
   ]
  },
  {
   "cell_type": "markdown",
   "metadata": {},
   "source": [
    "### Test Images With PCA"
   ]
  },
  {
   "cell_type": "code",
   "execution_count": 31,
   "metadata": {},
   "outputs": [
    {
     "data": {
      "text/plain": [
       "0.8381749829118251"
      ]
     },
     "execution_count": 31,
     "metadata": {},
     "output_type": "execute_result"
    }
   ],
   "source": [
    "from sklearn.model_selection import cross_val_score\n",
    "np.mean(cross_val_score(svc,test_reshaped_arr,test_conditions_new,cv=19))"
   ]
  },
  {
   "cell_type": "code",
   "execution_count": 32,
   "metadata": {},
   "outputs": [
    {
     "name": "stdout",
     "output_type": "stream",
     "text": [
      "0.8726076555023923\n"
     ]
    }
   ],
   "source": [
    "#implementing K-fold cross validation\n",
    "#creating 19 splits of training and testing data sets\n",
    "\n",
    "cv = StratifiedKFold(n_splits=19, random_state=None, shuffle=False)\n",
    "accuracy=[]\n",
    "ac1=[]\n",
    "for train, test in cv.split(X=test_reduced_train,y=test_conditions_new):\n",
    "    \n",
    "    conditions_masked = [test_conditions_new[i] for i in train]\n",
    "  \n",
    "    #training the classifier with the training part of the data\n",
    "    svc.fit([test_reduced_train[i] for i in train], conditions_masked)\n",
    "    \n",
    "    #testing withe the testing portion of the data\n",
    "    prediction = svc.predict([test_reduced_train[i] for i in test])\n",
    "    \n",
    "    j=0\n",
    "    #ac1.append(svc.score([test_reduced_train[i] for i in test],[test_conditions_new[i] for i in test]))\n",
    "    pred_match=[]\n",
    "    \n",
    "    #getting count of correctly matched labels\n",
    "    for i in test:\n",
    "        pred_match.append(prediction[j] == test_conditions_new[i])\n",
    "        j+=1\n",
    "            \n",
    "    pred_match = np.array(pred_match)\n",
    "    accuracy.append(pred_match.sum() / float(len(pred_match)))\n",
    "    \n",
    "print(np.mean(accuracy))\n",
    "#print(np.mean(ac1))"
   ]
  },
  {
   "cell_type": "markdown",
   "metadata": {},
   "source": [
    "### Test Images Without PCA"
   ]
  },
  {
   "cell_type": "code",
   "execution_count": 33,
   "metadata": {},
   "outputs": [
    {
     "name": "stdout",
     "output_type": "stream",
     "text": [
      "0.8381749829118251\n"
     ]
    }
   ],
   "source": [
    "#implementing K-fold cross validation\n",
    "#creating 19 splits of training and testing data sets\n",
    "\n",
    "cv = StratifiedKFold(n_splits=19, random_state=None, shuffle=False)\n",
    "accuracy=[]\n",
    "for train, test in cv.split(X=test_reshaped_arr,y=test_conditions_new):\n",
    "    \n",
    "    conditions_masked = [test_conditions_new[i] for i in train]\n",
    "    \n",
    "    #training the classifier with the training part of the data\n",
    "    svc.fit([test_reshaped_arr[i] for i in train], conditions_masked)\n",
    "    \n",
    "    #testing withe the testing portion of the data\n",
    "    prediction = svc.predict([test_reshaped_arr[i] for i in test])\n",
    "    \n",
    "    j=0\n",
    "    pred_match=[]\n",
    "    \n",
    "    #getting count of correctly matched labels\n",
    "    for i in test:\n",
    "        pred_match.append(prediction[j] == test_conditions_new[i])\n",
    "        j+=1\n",
    "            \n",
    "    pred_match = np.array(pred_match)\n",
    "    accuracy.append(pred_match.sum() / float(len(pred_match)))\n",
    "print(np.mean(accuracy))"
   ]
  },
  {
   "cell_type": "markdown",
   "metadata": {},
   "source": [
    "# Retest Images"
   ]
  },
  {
   "cell_type": "markdown",
   "metadata": {},
   "source": [
    "### Import Brain Retest Images"
   ]
  },
  {
   "cell_type": "code",
   "execution_count": 34,
   "metadata": {},
   "outputs": [],
   "source": [
    "retest_img_fname = './sub-01/ses-retest/func/sub-01_ses-retest_task-fingerfootlips_bold.nii'"
   ]
  },
  {
   "cell_type": "code",
   "execution_count": 35,
   "metadata": {},
   "outputs": [],
   "source": [
    "retest_img=[]\n",
    "for volume in image.iter_img(retest_img_fname):\n",
    "    retest_img.append(volume.dataobj)"
   ]
  },
  {
   "cell_type": "code",
   "execution_count": 36,
   "metadata": {},
   "outputs": [],
   "source": [
    "retest_img=np.array(retest_img)"
   ]
  },
  {
   "cell_type": "code",
   "execution_count": 37,
   "metadata": {},
   "outputs": [
    {
     "data": {
      "text/plain": [
       "(184, 64, 64, 30)"
      ]
     },
     "execution_count": 37,
     "metadata": {},
     "output_type": "execute_result"
    }
   ],
   "source": [
    "retest_img.shape"
   ]
  },
  {
   "cell_type": "code",
   "execution_count": 38,
   "metadata": {},
   "outputs": [
    {
     "data": {
      "text/plain": [
       "<matplotlib.image.AxesImage at 0x1c3044aa58>"
      ]
     },
     "execution_count": 38,
     "metadata": {},
     "output_type": "execute_result"
    },
    {
     "data": {
      "image/png": "[encoded data removed]",
      "text/plain": [
       "<Figure size 432x288 with 1 Axes>"
      ]
     },
     "metadata": {
      "needs_background": "light"
     },
     "output_type": "display_data"
    }
   ],
   "source": [
    "plt.imshow(retest_img[1,:,:,20],cmap='gray')"
   ]
  },
  {
   "cell_type": "markdown",
   "metadata": {},
   "source": [
    "### Retest Image Mask"
   ]
  },
  {
   "cell_type": "code",
   "execution_count": 39,
   "metadata": {},
   "outputs": [],
   "source": [
    "retest_mask_fname = './sub-01/ses-retest/func/c6rsub-01_ses-retest_task-fingerfootlips_bold.nii'"
   ]
  },
  {
   "cell_type": "code",
   "execution_count": 40,
   "metadata": {},
   "outputs": [],
   "source": [
    "retest_mask_img = nib.load(retest_mask_fname)"
   ]
  },
  {
   "cell_type": "code",
   "execution_count": 41,
   "metadata": {},
   "outputs": [
    {
     "data": {
      "text/plain": [
       "(64, 64, 30)"
      ]
     },
     "execution_count": 41,
     "metadata": {},
     "output_type": "execute_result"
    }
   ],
   "source": [
    "retest_mask_img.shape"
   ]
  },
  {
   "cell_type": "code",
   "execution_count": 42,
   "metadata": {},
   "outputs": [],
   "source": [
    "retest_mask_arr = retest_mask_img.get_fdata()"
   ]
  },
  {
   "cell_type": "code",
   "execution_count": 43,
   "metadata": {},
   "outputs": [],
   "source": [
    "#create a binary mask using thresholding\n",
    "thresh,retest_binary_mask = cv2.threshold(retest_mask_img.get_fdata(),0.8,1,cv2.THRESH_BINARY_INV)"
   ]
  },
  {
   "cell_type": "code",
   "execution_count": 44,
   "metadata": {},
   "outputs": [
    {
     "name": "stdout",
     "output_type": "stream",
     "text": [
      "(64, 64, 30)\n"
     ]
    },
    {
     "data": {
      "text/plain": [
       "<matplotlib.image.AxesImage at 0x10ef084e0>"
      ]
     },
     "execution_count": 44,
     "metadata": {},
     "output_type": "execute_result"
    },
    {
     "data": {
      "image/png": "[encoded data removed]",
      "text/plain": [
       "<Figure size 432x288 with 1 Axes>"
      ]
     },
     "metadata": {
      "needs_background": "light"
     },
     "output_type": "display_data"
    }
   ],
   "source": [
    "print(retest_binary_mask.shape)\n",
    "plt.imshow(retest_binary_mask[:,:,20],cmap='gray')"
   ]
  },
  {
   "cell_type": "markdown",
   "metadata": {},
   "source": [
    "### Retest Images Masking"
   ]
  },
  {
   "cell_type": "code",
   "execution_count": 45,
   "metadata": {},
   "outputs": [
    {
     "data": {
      "text/plain": [
       "(184, 64, 64, 30)"
      ]
     },
     "execution_count": 45,
     "metadata": {},
     "output_type": "execute_result"
    }
   ],
   "source": [
    "retest_img.shape"
   ]
  },
  {
   "cell_type": "code",
   "execution_count": 46,
   "metadata": {},
   "outputs": [],
   "source": [
    "#convolution on retest images using the mask image\n",
    "retest_masked_img=[]\n",
    "for i in range(184):\n",
    "    ar3=[]\n",
    "    for j in range(64):\n",
    "        ar2=[]\n",
    "        for k in range(64):\n",
    "            ar1=[]\n",
    "            for l in range(30):\n",
    "                ar1.append(retest_img[i][j][k][l]*retest_binary_mask[j][k][l])\n",
    "            ar2.append(ar1)\n",
    "        ar3.append(ar2)\n",
    "    retest_masked_img.append(ar3)"
   ]
  },
  {
   "cell_type": "code",
   "execution_count": 47,
   "metadata": {},
   "outputs": [
    {
     "data": {
      "text/plain": [
       "<matplotlib.image.AxesImage at 0x1c60b863c8>"
      ]
     },
     "execution_count": 47,
     "metadata": {},
     "output_type": "execute_result"
    },
    {
     "data": {
      "image/png": "[encoded data removed]",
      "text/plain": [
       "<Figure size 432x288 with 1 Axes>"
      ]
     },
     "metadata": {
      "needs_background": "light"
     },
     "output_type": "display_data"
    }
   ],
   "source": [
    "retest_masked_img=np.array(retest_masked_img)\n",
    "plt.imshow(retest_masked_img[1,:,:,20],cmap='gray')"
   ]
  },
  {
   "cell_type": "markdown",
   "metadata": {},
   "source": [
    "### Retest Images Feature Extraction"
   ]
  },
  {
   "cell_type": "code",
   "execution_count": 48,
   "metadata": {},
   "outputs": [
    {
     "name": "stdout",
     "output_type": "stream",
     "text": [
      "(184, 64, 64, 30)\n"
     ]
    }
   ],
   "source": [
    "retest_reshaped_arr=[]\n",
    "print(retest_masked_img.shape)\n",
    "retest_reshaped_arr = retest_masked_img.reshape(184,122880)"
   ]
  },
  {
   "cell_type": "code",
   "execution_count": 49,
   "metadata": {},
   "outputs": [
    {
     "data": {
      "text/plain": [
       "array([[0., 0., 0., ..., 0., 0., 0.],\n",
       "       [0., 0., 0., ..., 0., 0., 0.],\n",
       "       [0., 0., 0., ..., 0., 0., 0.],\n",
       "       ...,\n",
       "       [0., 0., 0., ..., 0., 0., 0.],\n",
       "       [0., 0., 0., ..., 0., 0., 0.],\n",
       "       [0., 0., 0., ..., 0., 0., 0.]])"
      ]
     },
     "execution_count": 49,
     "metadata": {},
     "output_type": "execute_result"
    }
   ],
   "source": [
    "retest_reshaped_arr"
   ]
  },
  {
   "cell_type": "code",
   "execution_count": 50,
   "metadata": {},
   "outputs": [
    {
     "data": {
      "text/plain": [
       "(184, 122880)"
      ]
     },
     "execution_count": 50,
     "metadata": {},
     "output_type": "execute_result"
    }
   ],
   "source": [
    "retest_reshaped_arr.shape"
   ]
  },
  {
   "cell_type": "markdown",
   "metadata": {},
   "source": [
    "### Retest Images PCA"
   ]
  },
  {
   "cell_type": "code",
   "execution_count": 51,
   "metadata": {},
   "outputs": [
    {
     "data": {
      "text/plain": [
       "PCA(copy=True, iterated_power='auto', n_components=85, random_state=None,\n",
       "  svd_solver='auto', tol=0.0, whiten=False)"
      ]
     },
     "execution_count": 51,
     "metadata": {},
     "output_type": "execute_result"
    }
   ],
   "source": [
    "#fit the PCA model on training data with n components\n",
    "components = 85\n",
    "sklearn_pca = PCA(n_components=components)\n",
    "sklearn_pca.fit(retest_reshaped_arr)"
   ]
  },
  {
   "cell_type": "code",
   "execution_count": 52,
   "metadata": {},
   "outputs": [],
   "source": [
    "#transform\n",
    "retest_reduced_train=[]\n",
    "retest_reduced_train = sklearn_pca.transform(retest_reshaped_arr)"
   ]
  },
  {
   "cell_type": "code",
   "execution_count": 53,
   "metadata": {},
   "outputs": [
    {
     "data": {
      "text/plain": [
       "(184, 85)"
      ]
     },
     "execution_count": 53,
     "metadata": {},
     "output_type": "execute_result"
    }
   ],
   "source": [
    "retest_reduced_train.shape"
   ]
  },
  {
   "cell_type": "markdown",
   "metadata": {},
   "source": [
    "### Retest Images SVM"
   ]
  },
  {
   "cell_type": "code",
   "execution_count": 54,
   "metadata": {},
   "outputs": [
    {
     "name": "stdout",
     "output_type": "stream",
     "text": [
      "SVC(C=1.0, cache_size=200, class_weight=None, coef0=0.0,\n",
      "  decision_function_shape='ovr', degree=3, gamma='auto', kernel='linear',\n",
      "  max_iter=-1, probability=False, random_state=None, shrinking=True,\n",
      "  tol=0.001, verbose=False)\n"
     ]
    }
   ],
   "source": [
    "#creating a model for the classifier\n",
    "retest_svc = SVC(C=1.0,kernel='linear',gamma='auto',random_state=None)\n",
    "print(retest_svc)"
   ]
  },
  {
   "cell_type": "code",
   "execution_count": 55,
   "metadata": {},
   "outputs": [],
   "source": [
    "#creating the array of labels\n",
    "labels = sio.loadmat('label.mat')\n",
    "retest_conditions=[]\n",
    "retest_conditions=labels['label']\n",
    "retest_label_new = dict(enumerate(labels['label'].flatten(), 1))\n",
    "retest_conditions_new = []\n",
    "for c in retest_conditions:\n",
    "    retest_conditions_new.append(c[0])"
   ]
  },
  {
   "cell_type": "code",
   "execution_count": 56,
   "metadata": {},
   "outputs": [
    {
     "data": {
      "text/plain": [
       "SVC(C=1.0, cache_size=200, class_weight=None, coef0=0.0,\n",
       "  decision_function_shape='ovr', degree=3, gamma='auto', kernel='linear',\n",
       "  max_iter=-1, probability=False, random_state=None, shrinking=True,\n",
       "  tol=0.001, verbose=False)"
      ]
     },
     "execution_count": 56,
     "metadata": {},
     "output_type": "execute_result"
    }
   ],
   "source": [
    "#fitting the classifier\n",
    "retest_svc.fit(retest_reduced_train,retest_conditions_new)"
   ]
  },
  {
   "cell_type": "code",
   "execution_count": 57,
   "metadata": {},
   "outputs": [
    {
     "name": "stdout",
     "output_type": "stream",
     "text": [
      "1.0\n"
     ]
    }
   ],
   "source": [
    "#predicting with the training set itself\n",
    "prediction = retest_svc.predict(retest_reduced_train)\n",
    "\n",
    "#accuracy should be 1, because it is predicted using the training set\n",
    "print((prediction == retest_conditions_new).sum() / float(len(retest_conditions_new)))"
   ]
  },
  {
   "cell_type": "markdown",
   "metadata": {},
   "source": [
    "### KFold Cross Validation"
   ]
  },
  {
   "cell_type": "markdown",
   "metadata": {},
   "source": [
    "### Retest Images With PCA"
   ]
  },
  {
   "cell_type": "code",
   "execution_count": 58,
   "metadata": {},
   "outputs": [
    {
     "name": "stdout",
     "output_type": "stream",
     "text": [
      "0.8139483065953653\n"
     ]
    }
   ],
   "source": [
    "#implementing K-fold cross validation\n",
    "#creating 17 splits of training and testing data sets\n",
    "\n",
    "cv = StratifiedKFold(n_splits=17, random_state=None, shuffle=False)\n",
    "accuracy=[]\n",
    "for train, test in cv.split(X=retest_reduced_train,y=retest_conditions_new):\n",
    "    \n",
    "    conditions_masked = [retest_conditions_new[i] for i in train]\n",
    "    \n",
    "    #training the classifier with the training part of the data\n",
    "    retest_svc.fit([retest_reduced_train[i] for i in train], conditions_masked)\n",
    "    \n",
    "    #testing withe the testing portion of the data\n",
    "    prediction = retest_svc.predict(retest_reduced_train[test])\n",
    "    \n",
    "    j=0\n",
    "    pred_match=[]\n",
    "    \n",
    "    #getting count of correctly matched labels\n",
    "    for i in test:\n",
    "        pred_match.append(prediction[j] == retest_conditions_new[i])\n",
    "        j+=1\n",
    "            \n",
    "    pred_match = np.array(pred_match)\n",
    "    accuracy.append(pred_match.sum() / float(len(retest_reduced_train[test])))\n",
    "print(np.mean(accuracy))"
   ]
  },
  {
   "cell_type": "markdown",
   "metadata": {},
   "source": [
    "### Retest Images Without PCA"
   ]
  },
  {
   "cell_type": "code",
   "execution_count": 59,
   "metadata": {},
   "outputs": [
    {
     "name": "stdout",
     "output_type": "stream",
     "text": [
      "0.7916666666666667\n"
     ]
    }
   ],
   "source": [
    "#implementing K-fold cross validation\n",
    "#creating 17 splits of training and testing data sets\n",
    "\n",
    "cv = StratifiedKFold(n_splits=17, random_state=None, shuffle=False)\n",
    "accuracy=[]\n",
    "for train, test in cv.split(X=retest_reshaped_arr,y=retest_conditions_new):\n",
    "    \n",
    "    conditions_masked = [retest_conditions_new[i] for i in train]\n",
    "    \n",
    "    #training the classifier with the training part of the data\n",
    "    retest_svc.fit([retest_reshaped_arr[i] for i in train], conditions_masked)\n",
    "    \n",
    "    #testing withe the testing portion of the data\n",
    "    prediction = retest_svc.predict(retest_reshaped_arr[test])\n",
    "    \n",
    "    j=0\n",
    "    pred_match=[]\n",
    "    \n",
    "    #getting count of correctly matched labels\n",
    "    for i in test:\n",
    "        pred_match.append(prediction[j] == retest_conditions_new[i])\n",
    "        j+=1\n",
    "            \n",
    "    pred_match = np.array(pred_match)\n",
    "    accuracy.append(pred_match.sum() / float(len(retest_reshaped_arr[test])))\n",
    "print(np.mean(accuracy))"
   ]
  },
  {
   "cell_type": "code",
   "execution_count": null,
   "metadata": {},
   "outputs": [],
   "source": []
  }
 ],
 "metadata": {
  "kernelspec": {
   "display_name": "Python 3",
   "language": "python",
   "name": "python3"
  },
  "language_info": {
   "codemirror_mode": {
    "name": "ipython",
    "version": 3
   },
   "file_extension": ".py",
   "mimetype": "text/x-python",
   "name": "python",
   "nbconvert_exporter": "python",
   "pygments_lexer": "ipython3",
   "version": "3.6.6"
  }
 },
 "nbformat": 4,
 "nbformat_minor": 2
}
